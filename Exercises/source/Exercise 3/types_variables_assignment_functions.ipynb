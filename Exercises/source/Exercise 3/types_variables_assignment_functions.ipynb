{
 "cells": [
  {
   "cell_type": "markdown",
   "metadata": {
    "nbgrader": {
     "grade": false,
     "grade_id": "cell-e925a1ea56688b2e",
     "locked": true,
     "schema_version": 3,
     "solution": false,
     "task": false
    }
   },
   "source": [
    "# types, variables, assignment, indexing, slicing"
   ]
  },
  {
   "cell_type": "code",
   "execution_count": 1,
   "metadata": {
    "nbgrader": {
     "grade": false,
     "grade_id": "cell-e21110f11e6d841a",
     "locked": true,
     "schema_version": 3,
     "solution": false,
     "task": false
    }
   },
   "outputs": [],
   "source": [
    "# You must run this cell, but you can ignore its contents.\n",
    "\n",
    "import hashlib\n",
    "\n",
    "def ads_hash(ty):\n",
    "    \"\"\"Return a unique string for input\"\"\"\n",
    "    ty_str = str(ty).encode()\n",
    "    m = hashlib.sha256()\n",
    "    m.update(ty_str)\n",
    "    return m.hexdigest()[:10]"
   ]
  },
  {
   "cell_type": "markdown",
   "metadata": {
    "nbgrader": {
     "grade": false,
     "grade_id": "cell-179bf0a88bde01d6",
     "locked": true,
     "schema_version": 3,
     "solution": false,
     "task": false
    }
   },
   "source": [
    "# Types\n",
    "\n",
    "Please answer the questions about Python types. Here we will use the spelling that Python uses for the types. Thus, we write `int` (not e.g. `integer`) and `str` (not e.g. `string`)."
   ]
  },
  {
   "cell_type": "markdown",
   "metadata": {
    "nbgrader": {
     "grade": false,
     "grade_id": "cell-dffd2c4d1820c148",
     "locked": true,
     "schema_version": 3,
     "solution": false,
     "task": false
    }
   },
   "source": [
    "## Q1\n",
    "\n",
    "What is the type of the following:\n",
    "\n",
    "`10`"
   ]
  },
  {
   "cell_type": "code",
   "execution_count": 2,
   "metadata": {
    "nbgrader": {
     "grade": false,
     "grade_id": "cell-4c5bb2e24cd0b4b8",
     "locked": false,
     "schema_version": 3,
     "solution": true,
     "task": false
    }
   },
   "outputs": [
    {
     "data": {
      "text/plain": [
       "int"
      ]
     },
     "execution_count": 2,
     "metadata": {},
     "output_type": "execute_result"
    }
   ],
   "source": [
    "# Type your answer here and then run this and the following cell.\n",
    "int"
   ]
  },
  {
   "cell_type": "code",
   "execution_count": 3,
   "metadata": {
    "nbgrader": {
     "grade": true,
     "grade_id": "cell-a534d123d26a6e42",
     "locked": true,
     "points": 1,
     "schema_version": 3,
     "solution": false,
     "task": false
    }
   },
   "outputs": [],
   "source": [
    "# If this runs without error, it means the answer in your previous cell was correct.\n",
    "assert(ads_hash(_)=='f918a1a5ca')"
   ]
  },
  {
   "cell_type": "markdown",
   "metadata": {
    "nbgrader": {
     "grade": false,
     "grade_id": "cell-02ed8f0df4c12fe7",
     "locked": true,
     "schema_version": 3,
     "solution": false,
     "task": false
    }
   },
   "source": [
    "## Q2\n",
    "\n",
    "What is the type of the following:\n",
    "    \n",
    "`[1,2,3,4]`"
   ]
  },
  {
   "cell_type": "code",
   "execution_count": 4,
   "metadata": {
    "nbgrader": {
     "grade": false,
     "grade_id": "cell-c53f7736f3ef6a4d",
     "locked": false,
     "schema_version": 3,
     "solution": true,
     "task": false
    }
   },
   "outputs": [
    {
     "data": {
      "text/plain": [
       "list"
      ]
     },
     "execution_count": 4,
     "metadata": {},
     "output_type": "execute_result"
    }
   ],
   "source": [
    "# Type your answer here and then run this and the following cell.\n",
    "list"
   ]
  },
  {
   "cell_type": "code",
   "execution_count": 5,
   "metadata": {
    "nbgrader": {
     "grade": true,
     "grade_id": "cell-0997a02809ef51df",
     "locked": true,
     "points": 1,
     "schema_version": 3,
     "solution": false,
     "task": false
    }
   },
   "outputs": [],
   "source": [
    "# If this runs without error, it means the answer in your previous cell was correct.\n",
    "assert(ads_hash(_)=='981a391f15')"
   ]
  },
  {
   "cell_type": "markdown",
   "metadata": {
    "nbgrader": {
     "grade": false,
     "grade_id": "cell-df6875a7f373d1e8",
     "locked": true,
     "schema_version": 3,
     "solution": false,
     "task": false
    }
   },
   "source": [
    "## Q3\n",
    "\n",
    "What is the type of the following:\n",
    "    \n",
    "`(1,2,3,4)`"
   ]
  },
  {
   "cell_type": "code",
   "execution_count": 6,
   "metadata": {
    "nbgrader": {
     "grade": false,
     "grade_id": "cell-cecba2dc8f2a1fcb",
     "locked": false,
     "schema_version": 3,
     "solution": true,
     "task": false
    }
   },
   "outputs": [
    {
     "data": {
      "text/plain": [
       "tuple"
      ]
     },
     "execution_count": 6,
     "metadata": {},
     "output_type": "execute_result"
    }
   ],
   "source": [
    "# Type your answer here and then run this and the following cell.\n",
    "tuple"
   ]
  },
  {
   "cell_type": "code",
   "execution_count": 7,
   "metadata": {
    "nbgrader": {
     "grade": true,
     "grade_id": "cell-d8e48e520e48ecbb",
     "locked": true,
     "points": 1,
     "schema_version": 3,
     "solution": false,
     "task": false
    }
   },
   "outputs": [],
   "source": [
    "# If this runs without error, it means the answer in your previous cell was correct.\n",
    "assert(ads_hash(_)=='99e8d934d2')"
   ]
  },
  {
   "cell_type": "markdown",
   "metadata": {},
   "source": [
    "## Q4\n",
    "\n",
    "What is the type of the following:\n",
    "    \n",
    "`\"(1,2,3,4)\"`"
   ]
  },
  {
   "cell_type": "code",
   "execution_count": 8,
   "metadata": {
    "nbgrader": {
     "grade": false,
     "grade_id": "cell-01390d1edcadb200",
     "locked": false,
     "schema_version": 3,
     "solution": true,
     "task": false
    }
   },
   "outputs": [
    {
     "data": {
      "text/plain": [
       "str"
      ]
     },
     "execution_count": 8,
     "metadata": {},
     "output_type": "execute_result"
    }
   ],
   "source": [
    "# Type your answer here and then run this and the following cell.\n",
    "str"
   ]
  },
  {
   "cell_type": "code",
   "execution_count": 9,
   "metadata": {
    "nbgrader": {
     "grade": true,
     "grade_id": "cell-81637082eb179284",
     "locked": true,
     "points": 1,
     "schema_version": 3,
     "solution": false,
     "task": false
    }
   },
   "outputs": [],
   "source": [
    "# If this runs without error, it means the answer in your previous cell was correct.\n",
    "assert(ads_hash(_)=='17a0b2d655')"
   ]
  },
  {
   "cell_type": "markdown",
   "metadata": {
    "nbgrader": {
     "grade": false,
     "grade_id": "cell-3e29ab113c157d73",
     "locked": true,
     "schema_version": 3,
     "solution": false,
     "task": false
    }
   },
   "source": [
    "## Q5\n",
    "\n",
    "What is the type of the following:\n",
    "    \n",
    "`'(1,2,3,4)'`"
   ]
  },
  {
   "cell_type": "code",
   "execution_count": 10,
   "metadata": {
    "nbgrader": {
     "grade": false,
     "grade_id": "cell-d6436534e3fbc839",
     "locked": false,
     "schema_version": 3,
     "solution": true,
     "task": false
    }
   },
   "outputs": [
    {
     "data": {
      "text/plain": [
       "str"
      ]
     },
     "execution_count": 10,
     "metadata": {},
     "output_type": "execute_result"
    }
   ],
   "source": [
    "# Type your answer here and then run this and the following cell.\n",
    "str"
   ]
  },
  {
   "cell_type": "code",
   "execution_count": 11,
   "metadata": {
    "nbgrader": {
     "grade": true,
     "grade_id": "cell-0e5bfe7fc5f7997b",
     "locked": true,
     "points": 1,
     "schema_version": 3,
     "solution": false,
     "task": false
    }
   },
   "outputs": [],
   "source": [
    "# If this runs without error, it means the answer in your previous cell was correct.\n",
    "assert(ads_hash(_)=='17a0b2d655')"
   ]
  },
  {
   "cell_type": "markdown",
   "metadata": {
    "nbgrader": {
     "grade": false,
     "grade_id": "cell-2e6d7d11312ed89d",
     "locked": true,
     "schema_version": 3,
     "solution": false,
     "task": false
    }
   },
   "source": [
    "# Variables and assignment\n",
    "\n",
    "The first questions are a review."
   ]
  },
  {
   "cell_type": "markdown",
   "metadata": {
    "nbgrader": {
     "grade": false,
     "grade_id": "cell-803f832c65529b6d",
     "locked": true,
     "schema_version": 3,
     "solution": false,
     "task": false
    }
   },
   "source": [
    "## Q1\n",
    "\n",
    "Consider the following code. After this has run, what will the value of `x` be?\n",
    "\n",
    "    x = 10"
   ]
  },
  {
   "cell_type": "code",
   "execution_count": 12,
   "metadata": {
    "nbgrader": {
     "grade": false,
     "grade_id": "cell-9de8d3cdd252995f",
     "locked": false,
     "schema_version": 3,
     "solution": true,
     "task": false
    }
   },
   "outputs": [
    {
     "data": {
      "text/plain": [
       "10"
      ]
     },
     "execution_count": 12,
     "metadata": {},
     "output_type": "execute_result"
    }
   ],
   "source": [
    "# Type your answer here and then run this and the following cell.\n",
    "10"
   ]
  },
  {
   "cell_type": "code",
   "execution_count": 13,
   "metadata": {
    "nbgrader": {
     "grade": true,
     "grade_id": "cell-1ff60a7adb65c261",
     "locked": true,
     "points": 1,
     "schema_version": 3,
     "solution": false,
     "task": false
    }
   },
   "outputs": [],
   "source": [
    "# If this runs without error, it means the answer in your previous cell was correct.\n",
    "assert(ads_hash(_)=='4a44dc1536')"
   ]
  },
  {
   "cell_type": "markdown",
   "metadata": {
    "nbgrader": {
     "grade": false,
     "grade_id": "cell-fc696d04bf395ee4",
     "locked": true,
     "schema_version": 3,
     "solution": false,
     "task": false
    }
   },
   "source": [
    "## Q2\n",
    "\n",
    "Consider the following code. After this has run, what will the value of `x` be?\n",
    "\n",
    "    x = 10\n",
    "    x = x+1"
   ]
  },
  {
   "cell_type": "code",
   "execution_count": 14,
   "metadata": {
    "nbgrader": {
     "grade": false,
     "grade_id": "cell-dae207003862512c",
     "locked": false,
     "schema_version": 3,
     "solution": true,
     "task": false
    }
   },
   "outputs": [
    {
     "data": {
      "text/plain": [
       "11"
      ]
     },
     "execution_count": 14,
     "metadata": {},
     "output_type": "execute_result"
    }
   ],
   "source": [
    "# Type your answer here and then run this and the following cell.\n",
    "11"
   ]
  },
  {
   "cell_type": "code",
   "execution_count": 15,
   "metadata": {
    "nbgrader": {
     "grade": true,
     "grade_id": "cell-417322b120e1eab7",
     "locked": true,
     "points": 1,
     "schema_version": 3,
     "solution": false,
     "task": false
    }
   },
   "outputs": [],
   "source": [
    "# If this runs without error, it means the answer in your previous cell was correct.\n",
    "assert(ads_hash(_)=='4fc82b26ae')"
   ]
  },
  {
   "cell_type": "markdown",
   "metadata": {
    "nbgrader": {
     "grade": false,
     "grade_id": "cell-91ffd31eabd4a539",
     "locked": true,
     "schema_version": 3,
     "solution": false,
     "task": false
    }
   },
   "source": [
    "## Q3\n",
    "\n",
    "Consider the following code. After this has run, what will the value of `x` be?\n",
    "\n",
    "    y = [1,2,3]\n",
    "    x = y"
   ]
  },
  {
   "cell_type": "code",
   "execution_count": 16,
   "metadata": {
    "nbgrader": {
     "grade": false,
     "grade_id": "cell-bb17fad77ab0be6f",
     "locked": false,
     "schema_version": 3,
     "solution": true,
     "task": false
    }
   },
   "outputs": [
    {
     "data": {
      "text/plain": [
       "[1, 2, 3]"
      ]
     },
     "execution_count": 16,
     "metadata": {},
     "output_type": "execute_result"
    }
   ],
   "source": [
    "# Type your answer here and then run this and the following cell.\n",
    "[1,2,3]"
   ]
  },
  {
   "cell_type": "code",
   "execution_count": 17,
   "metadata": {
    "nbgrader": {
     "grade": true,
     "grade_id": "cell-a58b1d4c175e7894",
     "locked": true,
     "points": 1,
     "schema_version": 3,
     "solution": false,
     "task": false
    }
   },
   "outputs": [],
   "source": [
    "# If this runs without error, it means the answer in your previous cell was correct.\n",
    "assert(ads_hash(_)=='a36b1f2c3f')"
   ]
  },
  {
   "cell_type": "markdown",
   "metadata": {
    "nbgrader": {
     "grade": false,
     "grade_id": "cell-1ebdb5ef57dfd542",
     "locked": true,
     "schema_version": 3,
     "solution": false,
     "task": false
    }
   },
   "source": [
    "# Indexing"
   ]
  },
  {
   "cell_type": "markdown",
   "metadata": {
    "nbgrader": {
     "grade": false,
     "grade_id": "cell-4c3dd2ac7883f171",
     "locked": true,
     "schema_version": 3,
     "solution": false,
     "task": false
    }
   },
   "source": [
    "## Q1\n",
    "\n",
    "Consider the following code. After this has run, what will the value of `x` be?\n",
    "\n",
    "    y = [1,2,3]\n",
    "    x = y[1]"
   ]
  },
  {
   "cell_type": "code",
   "execution_count": 18,
   "metadata": {
    "nbgrader": {
     "grade": false,
     "grade_id": "cell-f5a2887e76c4321e",
     "locked": false,
     "schema_version": 3,
     "solution": true,
     "task": false
    }
   },
   "outputs": [
    {
     "data": {
      "text/plain": [
       "2"
      ]
     },
     "execution_count": 18,
     "metadata": {},
     "output_type": "execute_result"
    }
   ],
   "source": [
    "# Type your answer here and then run this and the following cell.\n",
    "2"
   ]
  },
  {
   "cell_type": "code",
   "execution_count": 19,
   "metadata": {
    "nbgrader": {
     "grade": true,
     "grade_id": "cell-5314eae929078d10",
     "locked": true,
     "points": 1,
     "schema_version": 3,
     "solution": false,
     "task": false
    }
   },
   "outputs": [],
   "source": [
    "# If this runs without error, it means the answer in your previous cell was correct.\n",
    "assert(ads_hash(_)=='d4735e3a26')"
   ]
  },
  {
   "cell_type": "markdown",
   "metadata": {
    "nbgrader": {
     "grade": false,
     "grade_id": "cell-11f65d7c9b65371b",
     "locked": true,
     "schema_version": 3,
     "solution": false,
     "task": false
    }
   },
   "source": [
    "## Q2\n",
    "\n",
    "Consider the following code. After this has run, what will the value of `x` be?\n",
    "\n",
    "    x = [1,2,3]\n",
    "    x[2] = 42"
   ]
  },
  {
   "cell_type": "code",
   "execution_count": 20,
   "metadata": {
    "nbgrader": {
     "grade": false,
     "grade_id": "cell-8f0317f086f58de7",
     "locked": false,
     "schema_version": 3,
     "solution": true,
     "task": false
    }
   },
   "outputs": [
    {
     "data": {
      "text/plain": [
       "[1, 2, 42]"
      ]
     },
     "execution_count": 20,
     "metadata": {},
     "output_type": "execute_result"
    }
   ],
   "source": [
    "# Type your answer here and then run this and the following cell.\n",
    "[1,2,42]"
   ]
  },
  {
   "cell_type": "code",
   "execution_count": 21,
   "metadata": {
    "nbgrader": {
     "grade": true,
     "grade_id": "cell-5aa9f92a6e6efaa0",
     "locked": true,
     "points": 1,
     "schema_version": 3,
     "solution": false,
     "task": false
    }
   },
   "outputs": [],
   "source": [
    "# If this runs without error, it means the answer in your previous cell was correct.\n",
    "assert(ads_hash(_)=='ac009e066e')"
   ]
  },
  {
   "cell_type": "markdown",
   "metadata": {
    "nbgrader": {
     "grade": false,
     "grade_id": "cell-31c1a47f78680df7",
     "locked": true,
     "schema_version": 3,
     "solution": false,
     "task": false
    }
   },
   "source": [
    "## Q3\n",
    "\n",
    "Consider the following code. After this has run, what will the value of `x` be?\n",
    "\n",
    "    x = [1,2,3]\n",
    "    y = x\n",
    "    y[1] = 10"
   ]
  },
  {
   "cell_type": "code",
   "execution_count": 22,
   "metadata": {
    "nbgrader": {
     "grade": false,
     "grade_id": "cell-196bc244f1c8042b",
     "locked": false,
     "schema_version": 3,
     "solution": true,
     "task": false
    }
   },
   "outputs": [
    {
     "data": {
      "text/plain": [
       "[1, 10, 3]"
      ]
     },
     "execution_count": 22,
     "metadata": {},
     "output_type": "execute_result"
    }
   ],
   "source": [
    "# Type your answer here and then run this and the following cell.\n",
    "[1,10,3]"
   ]
  },
  {
   "cell_type": "code",
   "execution_count": 23,
   "metadata": {
    "nbgrader": {
     "grade": true,
     "grade_id": "cell-39cc1a93f8204257",
     "locked": true,
     "points": 1,
     "schema_version": 3,
     "solution": false,
     "task": false
    }
   },
   "outputs": [],
   "source": [
    "# If this runs without error, it means the answer in your previous cell was correct.\n",
    "assert(ads_hash(_)=='26796b1e40')"
   ]
  },
  {
   "cell_type": "markdown",
   "metadata": {
    "nbgrader": {
     "grade": false,
     "grade_id": "cell-bc63d89f8ac73cc7",
     "locked": true,
     "schema_version": 3,
     "solution": false,
     "task": false
    }
   },
   "source": [
    "# Slicing"
   ]
  },
  {
   "cell_type": "markdown",
   "metadata": {
    "nbgrader": {
     "grade": false,
     "grade_id": "cell-59f33c7f581a643f",
     "locked": true,
     "schema_version": 3,
     "solution": false,
     "task": false
    }
   },
   "source": [
    "## Q1\n",
    "\n",
    "Consider the following code. After this has run, what will the value of `x` be?\n",
    "\n",
    "    y = [1,2,3,4,5]\n",
    "    x = y[1:3]"
   ]
  },
  {
   "cell_type": "code",
   "execution_count": 24,
   "metadata": {
    "nbgrader": {
     "grade": false,
     "grade_id": "cell-c5984871c943365a",
     "locked": false,
     "schema_version": 3,
     "solution": true,
     "task": false
    }
   },
   "outputs": [
    {
     "data": {
      "text/plain": [
       "[2, 3]"
      ]
     },
     "execution_count": 24,
     "metadata": {},
     "output_type": "execute_result"
    }
   ],
   "source": [
    "# Type your answer here and then run this and the following cell.\n",
    "[2,3]"
   ]
  },
  {
   "cell_type": "code",
   "execution_count": 25,
   "metadata": {
    "nbgrader": {
     "grade": true,
     "grade_id": "cell-f9f8e930e5642969",
     "locked": true,
     "points": 1,
     "schema_version": 3,
     "solution": false,
     "task": false
    }
   },
   "outputs": [],
   "source": [
    "# If this runs without error, it means the answer in your previous cell was correct.\n",
    "assert(ads_hash(_)=='5bf775530e')"
   ]
  },
  {
   "cell_type": "markdown",
   "metadata": {
    "nbgrader": {
     "grade": false,
     "grade_id": "cell-5b06ff43b2d2b492",
     "locked": true,
     "schema_version": 3,
     "solution": false,
     "task": false
    }
   },
   "source": [
    "## Q2\n",
    "\n",
    "Consider the following code. After this has run, what will the value of `x` be?\n",
    "\n",
    "    y = [1,2,3,4,5]\n",
    "    x = y[:3]"
   ]
  },
  {
   "cell_type": "code",
   "execution_count": 26,
   "metadata": {
    "nbgrader": {
     "grade": false,
     "grade_id": "cell-7f8aa29eb2af0b7f",
     "locked": false,
     "schema_version": 3,
     "solution": true,
     "task": false
    }
   },
   "outputs": [
    {
     "data": {
      "text/plain": [
       "[1, 2, 3]"
      ]
     },
     "execution_count": 26,
     "metadata": {},
     "output_type": "execute_result"
    }
   ],
   "source": [
    "# Type your answer here and then run this and the following cell.\n",
    "[1,2,3]"
   ]
  },
  {
   "cell_type": "code",
   "execution_count": 27,
   "metadata": {
    "nbgrader": {
     "grade": true,
     "grade_id": "cell-b9af5eba45805af2",
     "locked": true,
     "points": 1,
     "schema_version": 3,
     "solution": false,
     "task": false
    }
   },
   "outputs": [],
   "source": [
    "# If this runs without error, it means the answer in your previous cell was correct.\n",
    "assert ads_hash(_)=='a36b1f2c3f'"
   ]
  },
  {
   "cell_type": "markdown",
   "metadata": {
    "nbgrader": {
     "grade": false,
     "grade_id": "cell-bcddf90d39f648f9",
     "locked": true,
     "schema_version": 3,
     "solution": false,
     "task": false
    }
   },
   "source": [
    "## Q3\n",
    "\n",
    "Consider the following code. After this has run, what will the value of `x` be?\n",
    "\n",
    "    y = [1,2,3,4,5]\n",
    "    x = y[-4:]"
   ]
  },
  {
   "cell_type": "code",
   "execution_count": 28,
   "metadata": {
    "nbgrader": {
     "grade": false,
     "grade_id": "cell-c921dc35e4b5e16e",
     "locked": false,
     "schema_version": 3,
     "solution": true,
     "task": false
    }
   },
   "outputs": [
    {
     "data": {
      "text/plain": [
       "[2, 3, 4, 5]"
      ]
     },
     "execution_count": 28,
     "metadata": {},
     "output_type": "execute_result"
    }
   ],
   "source": [
    "# Type your answer here and then run this and the following cell.\n",
    "[2,3,4,5]"
   ]
  },
  {
   "cell_type": "code",
   "execution_count": 29,
   "metadata": {
    "nbgrader": {
     "grade": true,
     "grade_id": "cell-1ba38ad0ab22e86e",
     "locked": true,
     "points": 1,
     "schema_version": 3,
     "solution": false,
     "task": false
    }
   },
   "outputs": [],
   "source": [
    "# If this runs without error, it means the answer in your previous cell was correct.\n",
    "assert ads_hash(_)=='c4204dd36f'"
   ]
  },
  {
   "cell_type": "markdown",
   "metadata": {
    "nbgrader": {
     "grade": false,
     "grade_id": "cell-ad8a134c4668a0d6",
     "locked": true,
     "schema_version": 3,
     "solution": false,
     "task": false
    }
   },
   "source": [
    "# Functions\n",
    "\n",
    "Theses questions should be a review for you"
   ]
  },
  {
   "cell_type": "markdown",
   "metadata": {
    "nbgrader": {
     "grade": false,
     "grade_id": "cell-45775cc0e99b3744",
     "locked": true,
     "schema_version": 3,
     "solution": false,
     "task": false
    }
   },
   "source": [
    "## Q1\n",
    "\n",
    "Define a function called `my_function` which returns its input multiplied by three."
   ]
  },
  {
   "cell_type": "code",
   "execution_count": 30,
   "metadata": {
    "nbgrader": {
     "grade": false,
     "grade_id": "cell-450afdf17d3b0b19",
     "locked": false,
     "schema_version": 3,
     "solution": true,
     "task": false
    }
   },
   "outputs": [],
   "source": [
    "def my_function(x):\n",
    "    return x*3"
   ]
  },
  {
   "cell_type": "code",
   "execution_count": 31,
   "metadata": {
    "nbgrader": {
     "grade": true,
     "grade_id": "cell-22f30ed9a48dc320",
     "locked": true,
     "points": 1,
     "schema_version": 3,
     "solution": false,
     "task": false
    }
   },
   "outputs": [],
   "source": [
    "# If this runs without error, it means `my_function` does indeed return three times its input.\n",
    "assert(my_function(0)==0)\n",
    "assert(my_function(1)==3)\n",
    "assert(my_function(100)==300)"
   ]
  },
  {
   "cell_type": "markdown",
   "metadata": {
    "nbgrader": {
     "grade": false,
     "grade_id": "cell-2ecaa6ef333bc779",
     "locked": true,
     "schema_version": 3,
     "solution": false,
     "task": false
    }
   },
   "source": [
    "## Q2\n",
    "\n",
    "Here is a function definition for `a_times_b`, but this code has a problem. Fix the problem by defining a function `a_times_b` so that the tests below pass.\n",
    "\n",
    "```\n",
    "def a_times_b(a,b):\n",
    "    a*b\n",
    "```"
   ]
  },
  {
   "cell_type": "code",
   "execution_count": 32,
   "metadata": {
    "nbgrader": {
     "grade": false,
     "grade_id": "cell-7d6d492c969fd4cc",
     "locked": false,
     "schema_version": 3,
     "solution": true,
     "task": false
    }
   },
   "outputs": [],
   "source": [
    "def a_times_b(a,b):\n",
    "    return a*b"
   ]
  },
  {
   "cell_type": "code",
   "execution_count": 33,
   "metadata": {
    "nbgrader": {
     "grade": true,
     "grade_id": "cell-739d96807909739e",
     "locked": true,
     "points": 1,
     "schema_version": 3,
     "solution": false,
     "task": false
    }
   },
   "outputs": [],
   "source": [
    "# If this runs without error, it means `a_times_b` does indeed function as expected.\n",
    "assert(a_times_b(0,10)==0)\n",
    "assert(a_times_b(10,10)==100)\n",
    "assert(a_times_b(10,0)==0)\n",
    "assert(a_times_b(6,7)==42)\n",
    "assert(a_times_b(7,6)==42)"
   ]
  },
  {
   "cell_type": "markdown",
   "metadata": {
    "nbgrader": {
     "grade": false,
     "grade_id": "cell-c61877577f449834",
     "locked": true,
     "schema_version": 3,
     "solution": false,
     "task": false
    }
   },
   "source": [
    "## Q3\n",
    "\n",
    "Make a function named `append3` which assumes its input argument is a `list` and appends the number `3` to it. Your function should return `None`."
   ]
  },
  {
   "cell_type": "code",
   "execution_count": 34,
   "metadata": {
    "nbgrader": {
     "grade": false,
     "grade_id": "cell-af763dc40964a8bd",
     "locked": false,
     "schema_version": 3,
     "solution": true,
     "task": false
    }
   },
   "outputs": [],
   "source": [
    "# Type your answer here and then run this and the following cell.\n",
    "def append3(x):\n",
    "    x.append(3)"
   ]
  },
  {
   "cell_type": "code",
   "execution_count": 35,
   "metadata": {
    "nbgrader": {
     "grade": true,
     "grade_id": "cell-dfe77036dc289698",
     "locked": true,
     "points": 1,
     "schema_version": 3,
     "solution": false,
     "task": false
    }
   },
   "outputs": [],
   "source": [
    "x = [1,4,10]\n",
    "assert ads_hash(append3(x))=='dc937b5989'\n",
    "assert ads_hash(x)=='c2a0352fa1'"
   ]
  },
  {
   "cell_type": "markdown",
   "metadata": {
    "nbgrader": {
     "grade": false,
     "grade_id": "cell-2a1fc2dc6eef9997",
     "locked": true,
     "schema_version": 3,
     "solution": false,
     "task": false
    }
   },
   "source": [
    "# Plotting"
   ]
  },
  {
   "cell_type": "code",
   "execution_count": 36,
   "metadata": {
    "nbgrader": {
     "grade": false,
     "grade_id": "cell-dd7086db2c448b9f",
     "locked": true,
     "schema_version": 3,
     "solution": false,
     "task": false
    }
   },
   "outputs": [],
   "source": [
    "# Below, we will use matplotlib, so we need to import it here.\n",
    "import matplotlib.pyplot as plt"
   ]
  },
  {
   "cell_type": "markdown",
   "metadata": {
    "nbgrader": {
     "grade": false,
     "grade_id": "cell-44b659b622ef1e36",
     "locked": true,
     "schema_version": 3,
     "solution": false,
     "task": false
    }
   },
   "source": [
    "## Q1\n",
    "\n",
    "Given the following data, make a plot that looks like this:\n",
    "\n",
    "```\n",
    "x=[1,2,3,4,5,6,7,8,9,10]\n",
    "y=[0,4,0,3,3,0,3,4,5,2]\n",
    "```\n",
    "\n",
    "<img src=\"data:image/png;base64,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\" alt=\"\" />"
   ]
  },
  {
   "cell_type": "code",
   "execution_count": 37,
   "metadata": {
    "nbgrader": {
     "grade": true,
     "grade_id": "cell-4283e6e240253fb1",
     "locked": false,
     "points": 1,
     "schema_version": 3,
     "solution": true,
     "task": false
    }
   },
   "outputs": [
    {
     "data": {
      "image/png": "[encoded data removed]",
      "text/plain": [
       "<Figure size 432x288 with 1 Axes>"
      ]
     },
     "metadata": {
      "needs_background": "light"
     },
     "output_type": "display_data"
    }
   ],
   "source": [
    "x=[1,2,3,4,5,6,7,8,9,10]\n",
    "y=[0,4,0,3,3,0,3,4,5,2]\n",
    "plt.plot(x,y);"
   ]
  },
  {
   "cell_type": "markdown",
   "metadata": {
    "nbgrader": {
     "grade": false,
     "grade_id": "cell-0fbdb51502e1211a",
     "locked": true,
     "schema_version": 3,
     "solution": false,
     "task": false
    }
   },
   "source": [
    "## Q2\n",
    "\n",
    "Given the following data, make a plot that looks like this:\n",
    "\n",
    "```\n",
    "x=[1,2,3,4,5,6,7,8,9,10]\n",
    "y1=[0,4,0,3,3,0,3,4,5,2]\n",
    "y2=[3,2,4,4,2,4,4,2,4,2]\n",
    "```\n",
    "\n",
    "Hint, you can draw two lines by making two calls to `plt.plot()`.\n",
    "\n",
    "<img src=\"data:image/png;base64,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\" alt=\"\" />"
   ]
  },
  {
   "cell_type": "code",
   "execution_count": 38,
   "metadata": {
    "nbgrader": {
     "grade": true,
     "grade_id": "cell-84eca66f88093703",
     "locked": false,
     "points": 1,
     "schema_version": 3,
     "solution": true,
     "task": false
    }
   },
   "outputs": [
    {
     "data": {
      "image/png": "[encoded data removed]",
      "text/plain": [
       "<Figure size 432x288 with 1 Axes>"
      ]
     },
     "metadata": {
      "needs_background": "light"
     },
     "output_type": "display_data"
    }
   ],
   "source": [
    "x=[1,2,3,4,5,6,7,8,9,10]\n",
    "y1=[0,4,0,3,3,0,3,4,5,2]\n",
    "y2=[3,2,4,4,2,4,4,2,4,2]\n",
    "plt.plot(x,y1)\n",
    "plt.plot(x,y2);"
   ]
  },
  {
   "cell_type": "markdown",
   "metadata": {
    "nbgrader": {
     "grade": false,
     "grade_id": "cell-911d3f2c6efedebc",
     "locked": true,
     "schema_version": 3,
     "solution": false,
     "task": false
    }
   },
   "source": [
    "## Scopes\n",
    "\n",
    "## Q1\n",
    "\n",
    "Fix the following code so that `myfunc` returns its input argument times `34`.\n",
    "\n",
    "```python\n",
    "x = 100\n",
    "\n",
    "def myfunc(a):\n",
    "    return x*34\n",
    "```"
   ]
  },
  {
   "cell_type": "code",
   "execution_count": 39,
   "metadata": {
    "nbgrader": {
     "grade": false,
     "grade_id": "cell-e62ac462a1466c64",
     "locked": false,
     "schema_version": 3,
     "solution": true,
     "task": false
    }
   },
   "outputs": [],
   "source": [
    "def myfunc(a):\n",
    "    return a*34"
   ]
  },
  {
   "cell_type": "code",
   "execution_count": 40,
   "metadata": {
    "nbgrader": {
     "grade": true,
     "grade_id": "cell-66f596032f6fb1ae",
     "locked": true,
     "points": 1,
     "schema_version": 3,
     "solution": false,
     "task": false
    }
   },
   "outputs": [],
   "source": [
    "assert ads_hash(myfunc(12))=='e6f47e008c'\n",
    "assert ads_hash(myfunc(123))=='ecdf40652a'"
   ]
  },
  {
   "cell_type": "markdown",
   "metadata": {
    "nbgrader": {
     "grade": false,
     "grade_id": "cell-9f94cfbb2410ebbe",
     "locked": true,
     "schema_version": 3,
     "solution": false,
     "task": false
    }
   },
   "source": [
    "## Q2\n",
    "\n",
    "Modify the definition of the `func1` function so that it returns its input argument times `y` from the global scope. Keep the `y = 123` in your answer cell, but not in your function.\n",
    "\n",
    "```python\n",
    "y = 123\n",
    "\n",
    "def func1(x):\n",
    "    x*2\n",
    "```"
   ]
  },
  {
   "cell_type": "code",
   "execution_count": 41,
   "metadata": {
    "nbgrader": {
     "grade": false,
     "grade_id": "cell-f052e86277ac2b09",
     "locked": false,
     "schema_version": 3,
     "solution": true,
     "task": false
    }
   },
   "outputs": [],
   "source": [
    "y = 123\n",
    "\n",
    "def func1(x):\n",
    "    return x*y"
   ]
  },
  {
   "cell_type": "code",
   "execution_count": 42,
   "metadata": {
    "nbgrader": {
     "grade": true,
     "grade_id": "cell-b6a2675dfc4862ea",
     "locked": true,
     "points": 1,
     "schema_version": 3,
     "solution": false,
     "task": false
    }
   },
   "outputs": [],
   "source": [
    "assert ads_hash(func1(4))=='23e8b01758'\n",
    "assert ads_hash(func1(10))=='22a2fa7d04'"
   ]
  },
  {
   "cell_type": "markdown",
   "metadata": {
    "nbgrader": {
     "grade": false,
     "grade_id": "cell-d92472e0e9ea07f6",
     "locked": true,
     "schema_version": 3,
     "solution": false,
     "task": false
    }
   },
   "source": [
    "### Q3 - Mixed function return values and \"side effects\"\n",
    "\n",
    "Consider this function:\n",
    "\n",
    "```python\n",
    "a = []\n",
    "def find_num(x,a):\n",
    "    a.append(x)\n",
    "    if x > 10:\n",
    "        return x/2\n",
    "    else:\n",
    "        return find_num(x+2,a)\n",
    "```\n",
    "\n",
    "Notice that each time the function runs, `a` in the global scope will get the value of `x` appended to it.\n",
    "\n",
    "How many times does this function run when started with `x=2`? Hint: you can check the length of the list `a` after it finishes running.\n",
    "\n",
    "Put your answer in the variable `n_runs`."
   ]
  },
  {
   "cell_type": "code",
   "execution_count": 43,
   "metadata": {
    "nbgrader": {
     "grade": false,
     "grade_id": "cell-13834aebe49a3a45",
     "locked": false,
     "schema_version": 3,
     "solution": true,
     "task": false
    }
   },
   "outputs": [],
   "source": [
    "a = []\n",
    "def find_num(x,a):\n",
    "    a.append(x)\n",
    "    if x > 10:\n",
    "        return x/2\n",
    "    else:\n",
    "        return find_num(x+2,a)\n",
    "    \n",
    "find_num(2,a)\n",
    "n_runs = len(a)"
   ]
  },
  {
   "cell_type": "code",
   "execution_count": 44,
   "metadata": {
    "nbgrader": {
     "grade": true,
     "grade_id": "cell-e350e97fb2289044",
     "locked": true,
     "points": 1,
     "schema_version": 3,
     "solution": false,
     "task": false
    }
   },
   "outputs": [],
   "source": [
    "assert ads_hash(n_runs)=='e7f6c01177'"
   ]
  },
  {
   "cell_type": "markdown",
   "metadata": {
    "nbgrader": {
     "grade": false,
     "grade_id": "cell-7d69975a16852789",
     "locked": true,
     "schema_version": 3,
     "solution": false,
     "task": false
    }
   },
   "source": [
    "# Fibonacci\n",
    "\n",
    "You may know the [Fibonacci sequence](https://en.wikipedia.org/wiki/Fibonacci_number).\n",
    "\n",
    "```\n",
    "0 1 1 2 3 5 8 13\n",
    "```\n",
    "\n",
    "Notice that, after the first two numbers, each number is the sum of the previous two.\n",
    "\n",
    "Let's make a Python program to generate it!"
   ]
  },
  {
   "cell_type": "code",
   "execution_count": 45,
   "metadata": {
    "nbgrader": {
     "grade": false,
     "grade_id": "cell-a797acc2cd4e44c3",
     "locked": true,
     "schema_version": 3,
     "solution": false,
     "task": false
    }
   },
   "outputs": [],
   "source": [
    "def exten_fib(a):\n",
    "    if len(a) < 2:\n",
    "        raise ValueError(\"not enough entries\")\n",
    "    num1 = a[-2]\n",
    "    num2 = a[-1]\n",
    "    a.append(num1+num2)"
   ]
  },
  {
   "cell_type": "code",
   "execution_count": 46,
   "metadata": {
    "nbgrader": {
     "grade": false,
     "grade_id": "cell-2042696ad549c125",
     "locked": true,
     "schema_version": 3,
     "solution": false,
     "task": false
    }
   },
   "outputs": [
    {
     "data": {
      "text/plain": [
       "[0, 1, 1]"
      ]
     },
     "execution_count": 46,
     "metadata": {},
     "output_type": "execute_result"
    }
   ],
   "source": [
    "a=[0,1]\n",
    "exten_fib(a)\n",
    "a"
   ]
  },
  {
   "cell_type": "code",
   "execution_count": 47,
   "metadata": {},
   "outputs": [
    {
     "data": {
      "text/plain": [
       "[0, 1, 1, 2, 3]"
      ]
     },
     "execution_count": 47,
     "metadata": {},
     "output_type": "execute_result"
    }
   ],
   "source": [
    "# Modify this cell to explore calling `exten_fib` many times.\n",
    "\n",
    "a=[0,1]\n",
    "exten_fib(a)\n",
    "exten_fib(a)\n",
    "exten_fib(a)\n",
    "a"
   ]
  },
  {
   "cell_type": "markdown",
   "metadata": {
    "nbgrader": {
     "grade": false,
     "grade_id": "cell-5770be94eba1bc42",
     "locked": true,
     "schema_version": 3,
     "solution": false,
     "task": false
    }
   },
   "source": [
    "### Q1\n",
    "\n",
    "What is the next Fibonacci number after 987? Put your answer in the variable `after987`."
   ]
  },
  {
   "cell_type": "code",
   "execution_count": 48,
   "metadata": {
    "nbgrader": {
     "grade": false,
     "grade_id": "cell-e7674742e304e19f",
     "locked": false,
     "schema_version": 3,
     "solution": true,
     "task": false
    }
   },
   "outputs": [
    {
     "name": "stdout",
     "output_type": "stream",
     "text": [
      "[0, 1, 1, 2, 3, 5, 8, 13, 21, 34, 55, 89, 144, 233, 377, 610, 987, 1597, 2584, 4181, 6765, 10946]\n"
     ]
    }
   ],
   "source": [
    "a=[0,1]\n",
    "for i in range(20):\n",
    "    exten_fib(a)\n",
    "print(a)\n",
    "\n",
    "after987 = 1597"
   ]
  },
  {
   "cell_type": "code",
   "execution_count": 49,
   "metadata": {
    "nbgrader": {
     "grade": true,
     "grade_id": "cell-0f5d26430311d09e",
     "locked": true,
     "points": 1,
     "schema_version": 3,
     "solution": false,
     "task": false
    }
   },
   "outputs": [],
   "source": [
    "assert ads_hash(after987)=='eb57f94995'"
   ]
  }
 ],
 "metadata": {
  "celltoolbar": "Create Assignment",
  "kernelspec": {
   "display_name": "Python 3 (ipykernel)",
   "language": "python",
   "name": "python3"
  },
  "language_info": {
   "codemirror_mode": {
    "name": "ipython",
    "version": 3
   },
   "file_extension": ".py",
   "mimetype": "text/x-python",
   "name": "python",
   "nbconvert_exporter": "python",
   "pygments_lexer": "ipython3",
   "version": "3.8.10"
  }
 },
 "nbformat": 4,
 "nbformat_minor": 2
}
