{
 "cells": [
  {
   "cell_type": "markdown",
   "id": "9b989ff2",
   "metadata": {},
   "source": [
    "# \"Classes\" without `class`\n",
    "\n",
    "In the previous lecture, we discussed this:"
   ]
  },
  {
   "cell_type": "code",
   "execution_count": 11,
   "id": "5e027950",
   "metadata": {},
   "outputs": [
    {
     "name": "stdout",
     "output_type": "stream",
     "text": [
      "The insect (species Bombus terrestris) has a mass of 200 milligrams.\n",
      "The insect (species Bombus terrestris) has a mass of 205 milligrams.\n",
      "The insect (species Apis mellifera) has a mass of 100 milligrams.\n",
      "The insect (species Apis mellifera) has a mass of 110 milligrams.\n",
      "205\n",
      "110\n"
     ]
    }
   ],
   "source": [
    "class Insect:\n",
    "    def __init__(self, species_name, mass):\n",
    "        self.species_name = species_name\n",
    "        self.mass = mass\n",
    "    def print_description(self):\n",
    "        print(\"The insect (species {}) has a mass of {} milligrams.\".format(\n",
    "            self.species_name, self.mass))\n",
    "    def eat(self,amount):\n",
    "        # (This could alternatively be done with `self.mass += amount`.)\n",
    "        self.mass = self.mass + amount\n",
    "    def exercise(self,amount):\n",
    "        self.mass = self.mass - amount\n",
    "        \n",
    "x = Insect(\"Bombus terrestris\", 200)\n",
    "x.print_description()\n",
    "x.eat(10)\n",
    "x.exercise(5)\n",
    "x.print_description()\n",
    "\n",
    "y = Insect(\"Apis mellifera\", 100)\n",
    "y.print_description()\n",
    "y.eat(10)\n",
    "y.print_description()\n",
    "\n",
    "print(x.mass)\n",
    "print(y.mass)"
   ]
  },
  {
   "cell_type": "markdown",
   "id": "69e5a399",
   "metadata": {},
   "source": [
    "In fact, there is no need to uses `class` to perform all of this. Here we show the equivalent without using `class`."
   ]
  },
  {
   "cell_type": "code",
   "execution_count": 12,
   "id": "41c35875",
   "metadata": {},
   "outputs": [],
   "source": [
    "my_data1 = {'species_name': 'Bombus terrestris', 'mass': 200}\n",
    "my_data2 = {'species_name': 'Apis mellifera', 'mass': 100}"
   ]
  },
  {
   "cell_type": "code",
   "execution_count": 13,
   "id": "9d1173bb",
   "metadata": {},
   "outputs": [],
   "source": [
    "def insect_print_description(my_data):\n",
    "    print(\"The insect (species {}) has a mass of {} milligrams.\".format(\n",
    "            my_data['species_name'], my_data['mass']))"
   ]
  },
  {
   "cell_type": "code",
   "execution_count": 14,
   "id": "534a20aa",
   "metadata": {},
   "outputs": [
    {
     "name": "stdout",
     "output_type": "stream",
     "text": [
      "The insect (species Bombus terrestris) has a mass of 200 milligrams.\n"
     ]
    }
   ],
   "source": [
    "insect_print_description(my_data1)"
   ]
  },
  {
   "cell_type": "code",
   "execution_count": 15,
   "id": "8a85b2e0",
   "metadata": {},
   "outputs": [],
   "source": [
    "def insect_eat(my_data, amount):\n",
    "    my_data['mass'] = my_data['mass'] + amount"
   ]
  },
  {
   "cell_type": "code",
   "execution_count": 16,
   "id": "036caf2a",
   "metadata": {},
   "outputs": [],
   "source": [
    "insect_eat(my_data1, 10)"
   ]
  },
  {
   "cell_type": "code",
   "execution_count": 17,
   "id": "12996d06",
   "metadata": {},
   "outputs": [
    {
     "name": "stdout",
     "output_type": "stream",
     "text": [
      "The insect (species Bombus terrestris) has a mass of 210 milligrams.\n"
     ]
    }
   ],
   "source": [
    "insect_print_description(my_data1)"
   ]
  },
  {
   "cell_type": "code",
   "execution_count": 18,
   "id": "364bfae3",
   "metadata": {},
   "outputs": [],
   "source": [
    "def insect_exercise(my_data, amount):\n",
    "    my_data['mass'] = my_data['mass'] - amount"
   ]
  },
  {
   "cell_type": "code",
   "execution_count": 19,
   "id": "85ea2667",
   "metadata": {},
   "outputs": [],
   "source": [
    "insect_exercise(my_data1, 5)"
   ]
  },
  {
   "cell_type": "code",
   "execution_count": 20,
   "id": "b16648f0",
   "metadata": {},
   "outputs": [
    {
     "name": "stdout",
     "output_type": "stream",
     "text": [
      "The insect (species Bombus terrestris) has a mass of 205 milligrams.\n",
      "The insect (species Apis mellifera) has a mass of 100 milligrams.\n"
     ]
    }
   ],
   "source": [
    "insect_print_description(my_data1)\n",
    "insect_print_description(my_data2)"
   ]
  },
  {
   "cell_type": "code",
   "execution_count": null,
   "id": "0c098946",
   "metadata": {},
   "outputs": [],
   "source": []
  }
 ],
 "metadata": {
  "kernelspec": {
   "display_name": "Python 3 (ipykernel)",
   "language": "python",
   "name": "python3"
  },
  "language_info": {
   "codemirror_mode": {
    "name": "ipython",
    "version": 3
   },
   "file_extension": ".py",
   "mimetype": "text/x-python",
   "name": "python",
   "nbconvert_exporter": "python",
   "pygments_lexer": "ipython3",
   "version": "3.8.10"
  }
 },
 "nbformat": 4,
 "nbformat_minor": 5
}
