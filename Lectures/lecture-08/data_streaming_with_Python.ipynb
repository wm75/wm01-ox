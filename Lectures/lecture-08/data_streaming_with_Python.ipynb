{
 "cells": [
  {
   "cell_type": "markdown",
   "id": "7ba86f57",
   "metadata": {},
   "source": [
    "# Data streaming with Python\n",
    "\n",
    "\n",
    "Data science libraries like *numpy*, *pandas*, *matplotlib* and *seaborn* provide superpowers to Python users.\n",
    "\n",
    "**But**: like everything in programming they are not the solution to any kind of problem.\n",
    "\n",
    "If you can hold all of your data in your machine's memory, these libraries are awesome, but what for *really* huge datasets?"
   ]
  },
  {
   "cell_type": "markdown",
   "id": "bee619cb",
   "metadata": {},
   "source": [
    "Let's explore this issue with the help of some Python internals:"
   ]
  },
  {
   "cell_type": "code",
   "execution_count": null,
   "id": "bf363f71",
   "metadata": {},
   "outputs": [],
   "source": [
    "import sys"
   ]
  },
  {
   "cell_type": "code",
   "execution_count": null,
   "id": "32aae764",
   "metadata": {},
   "outputs": [],
   "source": [
    "help(sys)"
   ]
  },
  {
   "cell_type": "code",
   "execution_count": null,
   "id": "4721b5c0",
   "metadata": {},
   "outputs": [],
   "source": [
    "mylist = [0,1,2,3,4]"
   ]
  },
  {
   "cell_type": "code",
   "execution_count": null,
   "id": "991f738f",
   "metadata": {},
   "outputs": [],
   "source": [
    "for n in mylist:\n",
    "    print(n)"
   ]
  },
  {
   "cell_type": "code",
   "execution_count": null,
   "id": "a7df2f24",
   "metadata": {},
   "outputs": [],
   "source": [
    "myrange = range(5)"
   ]
  },
  {
   "cell_type": "code",
   "execution_count": null,
   "id": "257f0418",
   "metadata": {},
   "outputs": [],
   "source": [
    "for n in myrange:\n",
    "    print(n)"
   ]
  },
  {
   "cell_type": "code",
   "execution_count": null,
   "id": "6764d47c",
   "metadata": {},
   "outputs": [],
   "source": [
    "sys.getsizeof(mylist) # get the size of mylist in bytes"
   ]
  },
  {
   "cell_type": "code",
   "execution_count": null,
   "id": "9141a0d0",
   "metadata": {},
   "outputs": [],
   "source": [
    "sys.getsizeof(myrange) # same thing for myrange"
   ]
  },
  {
   "cell_type": "markdown",
   "id": "e9637f9b",
   "metadata": {},
   "source": [
    "**scaling up**"
   ]
  },
  {
   "cell_type": "code",
   "execution_count": null,
   "id": "ad575248",
   "metadata": {},
   "outputs": [],
   "source": [
    "mylargerlist = [0,1,2,3,4,5,6,7,8,9]"
   ]
  },
  {
   "cell_type": "code",
   "execution_count": null,
   "id": "9a93f718",
   "metadata": {},
   "outputs": [],
   "source": [
    "mylargerrange = range(10)"
   ]
  },
  {
   "cell_type": "code",
   "execution_count": null,
   "id": "67d49144",
   "metadata": {},
   "outputs": [],
   "source": [
    "sys.getsizeof(mylist)"
   ]
  },
  {
   "cell_type": "code",
   "execution_count": null,
   "id": "3e4b30e5",
   "metadata": {},
   "outputs": [],
   "source": [
    "sys.getsizeof(myrange)"
   ]
  },
  {
   "cell_type": "markdown",
   "id": "e7dc4733",
   "metadata": {},
   "source": [
    "**going even larger**"
   ]
  },
  {
   "cell_type": "code",
   "execution_count": null,
   "id": "37fcf37c",
   "metadata": {},
   "outputs": [],
   "source": [
    "myhugerange = range(10*10**6)"
   ]
  },
  {
   "cell_type": "code",
   "execution_count": null,
   "id": "fbf71543",
   "metadata": {},
   "outputs": [],
   "source": [
    "myhugelist = list(myhugerange) # not going to type this literally"
   ]
  },
  {
   "cell_type": "code",
   "execution_count": null,
   "id": "b1b12178",
   "metadata": {},
   "outputs": [],
   "source": [
    "sys.getsizeof(myhugerange), sys.getsizeof(myhugelist)"
   ]
  },
  {
   "cell_type": "markdown",
   "id": "245c9491",
   "metadata": {},
   "source": [
    "**a range allows you to do many of the things you can do with the corresponding list without ever storing all the elements in memory**"
   ]
  },
  {
   "cell_type": "code",
   "execution_count": null,
   "id": "ad1cc797",
   "metadata": {},
   "outputs": [],
   "source": [
    "len(myhugerange)"
   ]
  },
  {
   "cell_type": "code",
   "execution_count": null,
   "id": "184d6762",
   "metadata": {},
   "outputs": [],
   "source": [
    "len(myhugelist)"
   ]
  },
  {
   "cell_type": "code",
   "execution_count": null,
   "id": "7b6ed28b",
   "metadata": {},
   "outputs": [],
   "source": [
    "sum(myhugerange)"
   ]
  },
  {
   "cell_type": "code",
   "execution_count": null,
   "id": "2ba3f887",
   "metadata": {},
   "outputs": [],
   "source": [
    "sum(myhugelist)"
   ]
  },
  {
   "cell_type": "markdown",
   "id": "0b8e267d",
   "metadata": {},
   "source": [
    "**some things work even better with a range than with a list**"
   ]
  },
  {
   "cell_type": "code",
   "execution_count": null,
   "id": "3477126e",
   "metadata": {},
   "outputs": [],
   "source": [
    "%timeit 9999999 in myhugerange"
   ]
  },
  {
   "cell_type": "code",
   "execution_count": null,
   "id": "9017aff2",
   "metadata": {},
   "outputs": [],
   "source": [
    "%timeit 9999999 in myhugelist"
   ]
  },
  {
   "cell_type": "markdown",
   "id": "879fd3fb",
   "metadata": {},
   "source": [
    "## Iterators and generators"
   ]
  },
  {
   "cell_type": "markdown",
   "id": "b9d0f473",
   "metadata": {},
   "source": [
    "Python ranges are one example of objects that yield potentially long sequences on demand.\n",
    "\n",
    "Whenever you do not need all of your data available at once for manipulating it, such a behavior can be very resource-friendly."
   ]
  },
  {
   "cell_type": "markdown",
   "id": "8baf9dc5",
   "metadata": {},
   "source": [
    "Such objects are called iterators or generators in Python and are very widely used.\n",
    "\n",
    "Examples:"
   ]
  },
  {
   "cell_type": "code",
   "execution_count": null,
   "id": "eaea44b3",
   "metadata": {},
   "outputs": [],
   "source": [
    "# a gigantic range; better don't try to turn it into a list!\n",
    "r = range(10**30)"
   ]
  },
  {
   "cell_type": "code",
   "execution_count": null,
   "id": "1159cf3e",
   "metadata": {},
   "outputs": [],
   "source": [
    "it = iter(r)"
   ]
  },
  {
   "cell_type": "code",
   "execution_count": null,
   "id": "0c9f6e95",
   "metadata": {},
   "outputs": [],
   "source": [
    "next(it)"
   ]
  },
  {
   "cell_type": "code",
   "execution_count": null,
   "id": "4ca15006",
   "metadata": {},
   "outputs": [],
   "source": [
    "import random\n",
    "\n",
    "# a so-called generator expression\n",
    "random_numbers_generator = (random.randrange(100) for n in r)"
   ]
  },
  {
   "cell_type": "code",
   "execution_count": null,
   "id": "1f0e3d3e",
   "metadata": {},
   "outputs": [],
   "source": [
    "import itertools\n",
    "\n",
    "# an endless sequence of recycled characters\n",
    "going_in_circles = itertools.cycle('Roundabout')"
   ]
  },
  {
   "cell_type": "code",
   "execution_count": null,
   "id": "4b369158",
   "metadata": {},
   "outputs": [],
   "source": [
    "letters_and_numbers = zip(going_in_circles, random_numbers_generator)"
   ]
  },
  {
   "cell_type": "code",
   "execution_count": null,
   "id": "7b89a976",
   "metadata": {},
   "outputs": [],
   "source": [
    "# generator functions\n",
    "\n",
    "def generate_fib():\n",
    "    a, b = 0, 1\n",
    "    yield a\n",
    "    yield b\n",
    "    while True:\n",
    "        a, b = b, a+b\n",
    "        yield b\n",
    "\n",
    "fib_generator = generate_fib()"
   ]
  },
  {
   "cell_type": "code",
   "execution_count": null,
   "id": "07de79b4",
   "metadata": {},
   "outputs": [],
   "source": [
    "# get lists of all fibonacci numbers < n\n",
    "\n",
    "def fib_seq(fib_max):\n",
    "    seq = []\n",
    "    for fib in fib_generator:\n",
    "        if fib > fib_max:\n",
    "            return seq\n",
    "        seq.append(fib)"
   ]
  },
  {
   "cell_type": "markdown",
   "id": "43027fc6",
   "metadata": {},
   "source": [
    "### The iterator protocol\n",
    "\n",
    "Iterable objects in Python define a special `__iter__` method that returns an *iterator* object.\n",
    "\n",
    "The *iterator* object, in turn, define:\n",
    "\n",
    "- a `__next__` method that returns the next element of the *iterator* object\n",
    "- their own `__iter__` method that just returns the *iterator* object itself\n",
    "\n",
    "*Generators* are special *iterators* that Python autogenerates from generator expressions and functions.\n",
    "\n",
    "You can iterate over any iterable by hand with next(iter(iterable) or you can let a `for` loop handle this for you."
   ]
  },
  {
   "cell_type": "code",
   "execution_count": null,
   "id": "f54e8f1b",
   "metadata": {},
   "outputs": [],
   "source": [
    "def get_n_items_from_iterator(iterator, n):\n",
    "    \"\"\"A generic function to return a user-defined number of items from a possibly endless iterator as a list\"\"\"\n",
    "    list_of_items = []\n",
    "    if n == 0: return list_of_items\n",
    "    for c, item in enumerate(iterator, 1):\n",
    "        list_of_items.append(item)\n",
    "        if c == n:\n",
    "            return list_of_items"
   ]
  },
  {
   "cell_type": "code",
   "execution_count": null,
   "id": "246eae07",
   "metadata": {},
   "outputs": [],
   "source": [
    "get_n_items_from_iterator(letters_and_numbers, 12)"
   ]
  },
  {
   "cell_type": "markdown",
   "id": "926b576a",
   "metadata": {},
   "source": [
    "## Reading and writing files with Python"
   ]
  },
  {
   "cell_type": "markdown",
   "id": "821915ed",
   "metadata": {},
   "source": [
    "### Writing"
   ]
  },
  {
   "cell_type": "code",
   "execution_count": null,
   "id": "048f3bfd",
   "metadata": {},
   "outputs": [],
   "source": [
    "o = open('/var/tmp/fileio/test.txt', 'w')"
   ]
  },
  {
   "cell_type": "code",
   "execution_count": null,
   "id": "bd6bdc3b",
   "metadata": {},
   "outputs": [],
   "source": [
    "o"
   ]
  },
  {
   "cell_type": "code",
   "execution_count": null,
   "id": "888cad90",
   "metadata": {},
   "outputs": [],
   "source": [
    "o.write('Hello world\\nHow are you today?\\n')"
   ]
  },
  {
   "cell_type": "code",
   "execution_count": null,
   "id": "93ade9fb",
   "metadata": {},
   "outputs": [],
   "source": [
    "o.close()"
   ]
  },
  {
   "cell_type": "markdown",
   "id": "d2b879eb",
   "metadata": {},
   "source": [
    "### Reading"
   ]
  },
  {
   "cell_type": "code",
   "execution_count": null,
   "id": "4617ad3b",
   "metadata": {},
   "outputs": [],
   "source": [
    "i = open('/var/tmp/fileio/test.txt')"
   ]
  },
  {
   "cell_type": "code",
   "execution_count": null,
   "id": "f73adec9",
   "metadata": {},
   "outputs": [],
   "source": [
    "i"
   ]
  },
  {
   "cell_type": "code",
   "execution_count": null,
   "id": "dac01ee6",
   "metadata": {},
   "outputs": [],
   "source": [
    "i.read()"
   ]
  },
  {
   "cell_type": "code",
   "execution_count": null,
   "id": "fb4da9f3",
   "metadata": {},
   "outputs": [],
   "source": [
    "i.close()"
   ]
  },
  {
   "cell_type": "code",
   "execution_count": null,
   "id": "bddc70ea",
   "metadata": {},
   "outputs": [],
   "source": [
    "with open('/var/tmp/fileio/test.txt') as i:\n",
    "    lines = i.readlines()"
   ]
  },
  {
   "cell_type": "code",
   "execution_count": null,
   "id": "dd3bf079",
   "metadata": {},
   "outputs": [],
   "source": [
    "lines"
   ]
  },
  {
   "cell_type": "markdown",
   "id": "72e6afc4",
   "metadata": {},
   "source": [
    "### What if the file I'm reading is really large?"
   ]
  },
  {
   "cell_type": "markdown",
   "id": "3457ed37",
   "metadata": {},
   "source": [
    "The read and readlines methods of file objects read the whole file into memory (like pandas does, too) so if your file is a couple of Gigabytes in size, you may freeze your computer!\n",
    "\n",
    "**Luckily file objects are also iterators!**"
   ]
  },
  {
   "cell_type": "code",
   "execution_count": null,
   "id": "52b9920b",
   "metadata": {},
   "outputs": [],
   "source": [
    "with open('/var/tmp/fileio/test.txt') as i:\n",
    "    first_line = next(i)"
   ]
  },
  {
   "cell_type": "code",
   "execution_count": null,
   "id": "fcc3660f",
   "metadata": {},
   "outputs": [],
   "source": [
    "first_line"
   ]
  },
  {
   "cell_type": "code",
   "execution_count": null,
   "id": "faebbaf3",
   "metadata": {},
   "outputs": [],
   "source": [
    "with open('/var/tmp/fileio/test.txt') as i:\n",
    "    for line in i:\n",
    "        print(line)"
   ]
  },
  {
   "cell_type": "markdown",
   "id": "36d8ca41",
   "metadata": {},
   "source": [
    "### A first example with biological sequence data"
   ]
  },
  {
   "cell_type": "code",
   "execution_count": null,
   "id": "5e26e5ef",
   "metadata": {},
   "outputs": [],
   "source": [
    "# extract sequence identifiers from a multi-FASTA file\n",
    "fasta_file = '/var/tmp/fileio/Mac_2020.fa'"
   ]
  },
  {
   "cell_type": "code",
   "execution_count": null,
   "id": "62350875",
   "metadata": {},
   "outputs": [],
   "source": [
    "# peek into the file\n",
    "with open(fasta_file) as i:\n",
    "    print(i.read(200))"
   ]
  },
  {
   "cell_type": "code",
   "execution_count": null,
   "id": "c9668d52",
   "metadata": {},
   "outputs": [],
   "source": [
    "# let's extract just the sequence names (from lines starting with \">\")\n",
    "seq_names = []\n",
    "with open(fasta_file) as i:\n",
    "    for line in i:\n",
    "        if line[0] == '>':\n",
    "            seq_names.append(line[1:].strip())"
   ]
  },
  {
   "cell_type": "code",
   "execution_count": null,
   "id": "b29836a9",
   "metadata": {},
   "outputs": [],
   "source": [
    "len(seq_names)"
   ]
  },
  {
   "cell_type": "code",
   "execution_count": null,
   "id": "126b7237",
   "metadata": {},
   "outputs": [],
   "source": [
    "# rewrite just sequences of interest to a new file\n",
    "seqs_wanted = ['chr_015', 'chr_020', 'chr_101']\n",
    "write_line = False\n",
    "with open(fasta_file) as i, open('wanted.fa', 'w') as o:\n",
    "    for line in i:\n",
    "        if line[0] == '>':\n",
    "            current_seq = line[1:].strip()\n",
    "            if current_seq in seqs_wanted:\n",
    "                write_line = True\n",
    "            else:\n",
    "                write_line = False\n",
    "        if write_line:\n",
    "            o.write(line)\n"
   ]
  },
  {
   "cell_type": "code",
   "execution_count": null,
   "id": "ef7cae32",
   "metadata": {},
   "outputs": [],
   "source": []
  }
 ],
 "metadata": {
  "kernelspec": {
   "display_name": "Python 3 (ipykernel)",
   "language": "python",
   "name": "python3"
  },
  "language_info": {
   "codemirror_mode": {
    "name": "ipython",
    "version": 3
   },
   "file_extension": ".py",
   "mimetype": "text/x-python",
   "name": "python",
   "nbconvert_exporter": "python",
   "pygments_lexer": "ipython3",
   "version": "3.8.10"
  }
 },
 "nbformat": 4,
 "nbformat_minor": 5
}
